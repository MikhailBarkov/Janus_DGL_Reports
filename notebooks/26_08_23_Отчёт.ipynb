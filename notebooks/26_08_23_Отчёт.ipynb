{
 "cells": [
  {
   "cell_type": "markdown",
   "id": "cb1c81b1",
   "metadata": {},
   "source": [
    "# 26.08.2023"
   ]
  },
  {
   "cell_type": "markdown",
   "id": "7dd19cfa",
   "metadata": {},
   "source": [
    "# Барков Михаил"
   ]
  },
  {
   "cell_type": "markdown",
   "id": "93f55cab",
   "metadata": {},
   "source": [
    "# Интеграция DGL в JanusGraph"
   ]
  },
  {
   "cell_type": "markdown",
   "id": "ce755439",
   "metadata": {},
   "source": [
    "### Что было сделано"
   ]
  },
  {
   "cell_type": "markdown",
   "id": "e14768ba",
   "metadata": {},
   "source": [
    "Добавлена актуальная рабочая версия индуктивного интерфейса в сервис экспорта. Добавлена инициализация БД через groovy-скрипт средствами основного докер-контейнера.  "
   ]
  },
  {
   "cell_type": "markdown",
   "id": "58f78e91",
   "metadata": {},
   "source": [
    "### Что дальше "
   ]
  },
  {
   "cell_type": "markdown",
   "id": "b9253607",
   "metadata": {},
   "source": [
    "Разобраться со внедрением плагина в JanusGraph. Дело в том, что написание и устройство плагина вопросов не вызывает, но я совсем ничего не знаю об устройстве jre, поэтому у меня не получается собрать докер-контейнер с рабочим плагином. Рассчитывал доделать этой ночью, но не вышло. Планирую добавить до понедельника. "
   ]
  }
 ],
 "metadata": {
  "kernelspec": {
   "display_name": "Python 3 (ipykernel)",
   "language": "python",
   "name": "python3"
  },
  "language_info": {
   "codemirror_mode": {
    "name": "ipython",
    "version": 3
   },
   "file_extension": ".py",
   "mimetype": "text/x-python",
   "name": "python",
   "nbconvert_exporter": "python",
   "pygments_lexer": "ipython3",
   "version": "3.10.12"
  }
 },
 "nbformat": 4,
 "nbformat_minor": 5
}
