{
 "cells": [
  {
   "cell_type": "markdown",
   "id": "53297888",
   "metadata": {},
   "source": [
    "# 18.08.2023"
   ]
  },
  {
   "cell_type": "markdown",
   "id": "e0e93a02",
   "metadata": {},
   "source": [
    "# Барков Михаил"
   ]
  },
  {
   "cell_type": "markdown",
   "id": "49c420ad",
   "metadata": {},
   "source": [
    "# Интеграция DGL в JanusGraph"
   ]
  },
  {
   "cell_type": "markdown",
   "id": "6ab15002",
   "metadata": {},
   "source": [
    "### Что было сделано"
   ]
  },
  {
   "cell_type": "markdown",
   "id": "4d39e517",
   "metadata": {},
   "source": [
    "По основному вопросу со сборкой докер-образа. Теперь JanusGaph запускается с остальными сервисами. Ваш совет помог, и, действительно, можно существенно уменьшить потребление памяти уменьшив размер кучи и уменьшив размер кеша. Правда, для этого приходится не использовать готовый образ JanusGraph-а, а собирать контейнер, как в официальном репозитории (https://github.com/JanusGraph/janusgraph-docker/tree/master), но подменяя файл настроек jvm. В принципе, потом это будет удобно для внедрения плагина.  \n",
    "Кроме этого, так как теперь бд поднимается с нуля, добавлен сервис для загрузки датасета в базу данных. В сервисе реализован python-скрипт для загрузки датасета из dgl. Возможно, это переусложнение и стоит придумать способ загружать данные по другому (из статического файла, например). "
   ]
  },
  {
   "cell_type": "markdown",
   "id": "8b614c3c",
   "metadata": {},
   "source": [
    "### Что дальше"
   ]
  },
  {
   "cell_type": "markdown",
   "id": "203ba9f6",
   "metadata": {},
   "source": [
    "Внедрить плагин сейчас главная задача, а после этого (надеюсь, это случится в ближайшее время) я уточню, какую из задач (а их много) надо решать в первую очередь. "
   ]
  }
 ],
 "metadata": {
  "kernelspec": {
   "display_name": "Python 3 (ipykernel)",
   "language": "python",
   "name": "python3"
  },
  "language_info": {
   "codemirror_mode": {
    "name": "ipython",
    "version": 3
   },
   "file_extension": ".py",
   "mimetype": "text/x-python",
   "name": "python",
   "nbconvert_exporter": "python",
   "pygments_lexer": "ipython3",
   "version": "3.10.12"
  }
 },
 "nbformat": 4,
 "nbformat_minor": 5
}
