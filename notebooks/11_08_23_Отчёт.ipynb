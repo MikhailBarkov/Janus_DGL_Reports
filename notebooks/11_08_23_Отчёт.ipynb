{
 "cells": [
  {
   "cell_type": "markdown",
   "id": "55b64ac1",
   "metadata": {},
   "source": [
    "# 11.08.2023"
   ]
  },
  {
   "cell_type": "markdown",
   "id": "2449fe2b",
   "metadata": {},
   "source": [
    "# Барков Михаил"
   ]
  },
  {
   "cell_type": "markdown",
   "id": "1d1e2f8c",
   "metadata": {},
   "source": [
    "# Интеграция DGL в JanusGraph"
   ]
  },
  {
   "cell_type": "markdown",
   "id": "062f8dde",
   "metadata": {},
   "source": [
    "## Что сделано за эту неделю"
   ]
  },
  {
   "cell_type": "markdown",
   "id": "39645ac2",
   "metadata": {},
   "source": [
    "Исправлена проблема переиспользования памяти в сервисе обучения. Добавлен индуктивный интерфейс. Экспорт данных разделён на служебный и пользовательский (для задач endpoint-сервиса и для экспорта данных по запросу пользователя). Исправлена работа endpoint-сервиса. Подготовлен Докер образ для тестирования. Внедрён новый S3. "
   ]
  },
  {
   "cell_type": "markdown",
   "id": "9b3e6779",
   "metadata": {},
   "source": [
    "## Тестирование"
   ]
  },
  {
   "cell_type": "markdown",
   "id": "4294c43e",
   "metadata": {},
   "source": [
    "В итоге проблемы со сборкой pytorch-а я решил используя готовый образ (bitnami/pytorch). Есть только одна проблема. gremlin-python не работает на новейшей версии python, поэтому в этом сервисе используется другой образ с python3.9. Ссылка (https://github.com/MikhailBarkov/janus_dgl/blob/master/example.ipynb)."
   ]
  },
  {
   "cell_type": "markdown",
   "id": "4fa73323",
   "metadata": {},
   "source": [
    "## Что дальше"
   ]
  },
  {
   "cell_type": "markdown",
   "id": "7c5784b0",
   "metadata": {},
   "source": [
    "Наконец-то наладить плагин на стороне сервера, расширить средства индуктивного интерфейса для случаев RGCN."
   ]
  }
 ],
 "metadata": {
  "kernelspec": {
   "display_name": "Python 3 (ipykernel)",
   "language": "python",
   "name": "python3"
  },
  "language_info": {
   "codemirror_mode": {
    "name": "ipython",
    "version": 3
   },
   "file_extension": ".py",
   "mimetype": "text/x-python",
   "name": "python",
   "nbconvert_exporter": "python",
   "pygments_lexer": "ipython3",
   "version": "3.10.12"
  }
 },
 "nbformat": 4,
 "nbformat_minor": 5
}
